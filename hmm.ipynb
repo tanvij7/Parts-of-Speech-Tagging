{
 "cells": [
  {
   "cell_type": "code",
   "execution_count": 1,
   "metadata": {},
   "outputs": [],
   "source": [
    "from hmm import POS"
   ]
  },
  {
   "cell_type": "code",
   "execution_count": 2,
   "metadata": {},
   "outputs": [],
   "source": [
    "from POS_tag import POS_databasedmodel"
   ]
  },
  {
   "cell_type": "code",
   "execution_count": 5,
   "metadata": {},
   "outputs": [],
   "source": [
    "# load train data\n",
    "with open('./dataset/WSJ_02-21.pos', 'r') as file:\n",
    "    train_data = file.readlines()"
   ]
  },
  {
   "cell_type": "code",
   "execution_count": 6,
   "metadata": {},
   "outputs": [],
   "source": [
    "# load test data\n",
    "with open('./dataset/WSJ_24.pos', 'r') as file:\n",
    "    test_data = file.readlines()"
   ]
  },
  {
   "cell_type": "markdown",
   "metadata": {},
   "source": [
    "# Basic Statistical Model"
   ]
  },
  {
   "cell_type": "code",
   "execution_count": 7,
   "metadata": {},
   "outputs": [],
   "source": [
    "# Model Initialization\n",
    "pos_model = POS_databasedmodel()"
   ]
  },
  {
   "cell_type": "code",
   "execution_count": 8,
   "metadata": {},
   "outputs": [],
   "source": [
    "#Model Training\n",
    "pos_model.train_model(train_data)"
   ]
  },
  {
   "cell_type": "code",
   "execution_count": 9,
   "metadata": {},
   "outputs": [],
   "source": [
    "#Splitting the test data into words and labels\n",
    "xTest, yTest = [], []\n",
    "for line in test_data:\n",
    "    x, y = pos_model.split_data(train_data,line)\n",
    "    xTest.append(x)\n",
    "    yTest.append(y)"
   ]
  },
  {
   "cell_type": "code",
   "execution_count": 10,
   "metadata": {},
   "outputs": [],
   "source": [
    "#Model Prediction for test data\n",
    "yPred = pos_model.Predict(xTest)"
   ]
  },
  {
   "cell_type": "code",
   "execution_count": 11,
   "metadata": {},
   "outputs": [
    {
     "name": "stdout",
     "output_type": "stream",
     "text": [
      "Accuracy for POP tagger: 0.87\n"
     ]
    }
   ],
   "source": [
    "# Accuracy for the prediction done\n",
    "from sklearn.metrics import accuracy_score\n",
    "accuracy = accuracy_score(yPred, yTest)\n",
    "\n",
    "print('Accuracy for POP tagger:', round(accuracy, 2))"
   ]
  },
  {
   "cell_type": "code",
   "execution_count": 14,
   "metadata": {},
   "outputs": [],
   "source": [
    "text = \"Get the cans\""
   ]
  },
  {
   "cell_type": "code",
   "execution_count": 15,
   "metadata": {},
   "outputs": [
    {
     "data": {
      "text/plain": [
       "['VB', 'DT', 'NNS']"
      ]
     },
     "execution_count": 15,
     "metadata": {},
     "output_type": "execute_result"
    }
   ],
   "source": [
    "pos_model.Predict(text.split())"
   ]
  },
  {
   "cell_type": "markdown",
   "metadata": {},
   "source": [
    "# Hidden Markov Model"
   ]
  },
  {
   "cell_type": "code",
   "execution_count": 16,
   "metadata": {},
   "outputs": [],
   "source": [
    "# instantiate & train pos tagger\n",
    "pos_tagger = POS()\n",
    "pos_tagger.train(train_data)"
   ]
  },
  {
   "cell_type": "code",
   "execution_count": 17,
   "metadata": {},
   "outputs": [],
   "source": [
    "# x y split for test data\n",
    "xTest, yTest = [], []\n",
    "for line in test_data:\n",
    "    x, y = pos_tagger.read_line(line)\n",
    "    \n",
    "    xTest.append(x)\n",
    "    yTest.append(y)"
   ]
  },
  {
   "cell_type": "code",
   "execution_count": 18,
   "metadata": {},
   "outputs": [
    {
     "name": "stderr",
     "output_type": "stream",
     "text": [
      "100%|████████████████████████████████████████████████████████████████████████████| 34198/34198 [09:58<00:00, 57.13it/s]\n"
     ]
    }
   ],
   "source": [
    "# make POS prediction for test corpus\n",
    "yPred = pos_tagger.predict(' '.join(xTest))"
   ]
  },
  {
   "cell_type": "code",
   "execution_count": 19,
   "metadata": {},
   "outputs": [
    {
     "name": "stdout",
     "output_type": "stream",
     "text": [
      "Accuracy for POP tagger: 0.95\n"
     ]
    }
   ],
   "source": [
    "# get the accuracy score for prediction\n",
    "from sklearn.metrics import accuracy_score\n",
    "accuracy = accuracy_score(yPred, yTest)\n",
    "\n",
    "print('Accuracy for POP tagger:', round(accuracy, 2))"
   ]
  },
  {
   "cell_type": "code",
   "execution_count": 20,
   "metadata": {},
   "outputs": [],
   "source": [
    "test_ex = 'I am studying at CMS'"
   ]
  },
  {
   "cell_type": "code",
   "execution_count": 21,
   "metadata": {},
   "outputs": [
    {
     "name": "stderr",
     "output_type": "stream",
     "text": [
      "100%|████████████████████████████████████████████████████████████████████████████████████| 4/4 [00:00<00:00, 93.27it/s]\n"
     ]
    },
    {
     "data": {
      "text/plain": [
       "['PRP', 'VBP', 'VBG', 'IN', 'NNP']"
      ]
     },
     "execution_count": 21,
     "metadata": {},
     "output_type": "execute_result"
    }
   ],
   "source": [
    "pos_tagger.predict(test_ex)"
   ]
  },
  {
   "cell_type": "code",
   "execution_count": null,
   "metadata": {},
   "outputs": [],
   "source": []
  }
 ],
 "metadata": {
  "kernelspec": {
   "display_name": "Python 3",
   "language": "python",
   "name": "python3"
  },
  "language_info": {
   "codemirror_mode": {
    "name": "ipython",
    "version": 3
   },
   "file_extension": ".py",
   "mimetype": "text/x-python",
   "name": "python",
   "nbconvert_exporter": "python",
   "pygments_lexer": "ipython3",
   "version": "3.7.7"
  }
 },
 "nbformat": 4,
 "nbformat_minor": 4
}
